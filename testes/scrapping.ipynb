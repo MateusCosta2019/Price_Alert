{
 "cells": [
  {
   "cell_type": "code",
   "execution_count": 2,
   "metadata": {},
   "outputs": [],
   "source": [
    "from selenium.webdriver.common.by import By\n",
    "from selenium.webdriver.support.ui import WebDriverWait\n",
    "from time import sleep\n",
    "from selenium.webdriver.support.wait import WebDriverWait\n",
    "from selenium.webdriver.support import expected_conditions as EC\n",
    "import pandas as pd\n",
    "from selenium import webdriver\n",
    "from bs4 import BeautifulSoup"
   ]
  },
  {
   "cell_type": "code",
   "execution_count": 3,
   "metadata": {},
   "outputs": [],
   "source": [
    "dataset = []\n",
    "\n",
    "url = \"https://www.magazineluiza.com.br/celulares-e-smartphones/l/te/\"\n",
    "\n",
    "chrome_option = webdriver.ChromeOptions()\n",
    "chrome_option.add_argument('--headless')\n",
    "chrome_option.add_argument('--no-sandbox')\n",
    "chrome_option.add_argument('--disable-dev-shm-usage')\n",
    "\n",
    "driver = webdriver.Chrome('chromedriver')\n",
    "driver.get(url)\n",
    "soup = BeautifulSoup(driver.page_source, \"html.parser\")\n",
    "driver.find_element(By.CSS_SELECTOR, '.gVxVwR').click()\n",
    "x = 0\n",
    "while x < 3:\n",
    "    x+=1\n",
    "    try:\n",
    "        driver.execute_script(\"window.scrollTo(0, document.body.scrollHeight);\")\n",
    "        sleep(5)\n",
    "        next_button = WebDriverWait(driver, 10).until(\n",
    "            EC.element_to_be_clickable((By.CSS_SELECTOR, 'button[aria-label=\"Go to next page\"]'))\n",
    "        )\n",
    "\n",
    "        next_button.click()\n",
    "    except Exception as e:\n",
    "        print(e)\n",
    "        driver.quit()"
   ]
  },
  {
   "cell_type": "code",
   "execution_count": 12,
   "metadata": {},
   "outputs": [],
   "source": [
    "card = soup.find_all('li', class_='sc-eCihoo BCSuy')"
   ]
  },
  {
   "cell_type": "code",
   "execution_count": 14,
   "metadata": {},
   "outputs": [],
   "source": [
    "for ap in card:\n",
    "    item = ap.find('h2', class_='sc-kOjCZu enKhKW').text\n",
    "\n",
    "    preco_original = ap.find('p', 'sc-kDvujY gcLiKJ sc-dcntqk cJvvNV')\n",
    "    preco_original = preco_original.text if preco_original else 'null'\n",
    "\n",
    "    value = ap.find('p', 'sc-kDvujY jDmBNY sc-ehkVkK kPMBBS')\n",
    "    value = value.text if value else 'null'\n",
    "\n",
    "    parcelas = ap.find('p', class_='sc-kDvujY szpaO sc-eVspGN QAigN')\n",
    "    parcelas = parcelas.text if parcelas else 'null'\n",
    "    \n",
    "    review = ap.find('span', 'sc-hgRfpC dOenOK')\n",
    "    review = review.text if review else 'null'\n",
    "\n",
    "    dataset.append([item, value, preco_original, parcelas, review])"
   ]
  },
  {
   "cell_type": "code",
   "execution_count": null,
   "metadata": {},
   "outputs": [],
   "source": [
    "driver.execute_script(\"window.scrollTo(0, document.body.scrollHeight);\")\n",
    "sleep(5)\n",
    "next_button = WebDriverWait(driver, 10).until(\n",
    "    EC.element_to_be_clickable((By.CSS_SELECTOR, 'aria-label=\"Go to next page\"'))\n",
    ")"
   ]
  },
  {
   "cell_type": "code",
   "execution_count": null,
   "metadata": {},
   "outputs": [],
   "source": [
    "print(next_button.text())"
   ]
  }
 ],
 "metadata": {
  "kernelspec": {
   "display_name": ".pyenv",
   "language": "python",
   "name": "python3"
  },
  "language_info": {
   "codemirror_mode": {
    "name": "ipython",
    "version": 3
   },
   "file_extension": ".py",
   "mimetype": "text/x-python",
   "name": "python",
   "nbconvert_exporter": "python",
   "pygments_lexer": "ipython3",
   "version": "3.10.6"
  },
  "orig_nbformat": 4,
  "vscode": {
   "interpreter": {
    "hash": "7aa58d13888cf31c51a45594304109a5fb55361f417b69ec65b79b84a8f23ef3"
   }
  }
 },
 "nbformat": 4,
 "nbformat_minor": 2
}
