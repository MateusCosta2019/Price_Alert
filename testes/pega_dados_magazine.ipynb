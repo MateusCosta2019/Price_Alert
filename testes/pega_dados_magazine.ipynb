{
 "cells": [
  {
   "cell_type": "code",
   "execution_count": 1,
   "metadata": {},
   "outputs": [],
   "source": [
    "from selenium import webdriver\n",
    "from selenium.webdriver.common.keys import Keys\n",
    "from selenium.webdriver.common.by import By\n",
    "import bs4\n",
    "from bs4 import BeautifulSoup\n",
    "from selenium.webdriver.support.ui import WebDriverWait"
   ]
  },
  {
   "cell_type": "code",
   "execution_count": 2,
   "metadata": {},
   "outputs": [],
   "source": [
    "caminho = 'https://www.amazon.com.br/s?k=iphone&crid=35KOR5Q5FX2BM&sprefix=iphon%2Caps%2C276&ref=nb_sb_ss_ts-doa-p_2_5'"
   ]
  },
  {
   "cell_type": "code",
   "execution_count": 3,
   "metadata": {},
   "outputs": [],
   "source": [
    "chrome_option = webdriver.ChromeOptions()\n",
    "chrome_option.add_argument('--headless')\n",
    "chrome_option.add_argument('--no-sandbox')\n",
    "chrome_option.add_argument('--disable-dev-shm-usage')"
   ]
  },
  {
   "cell_type": "code",
   "execution_count": 4,
   "metadata": {},
   "outputs": [],
   "source": [
    "browser = webdriver.Chrome('chromedriver', options=chrome_option)\n",
    "browser.get(caminho)"
   ]
  },
  {
   "cell_type": "code",
   "execution_count": 5,
   "metadata": {},
   "outputs": [],
   "source": [
    "soup = BeautifulSoup(browser.page_source, \"html.parser\")"
   ]
  },
  {
   "cell_type": "code",
   "execution_count": 7,
   "metadata": {},
   "outputs": [
    {
     "data": {
      "text/plain": [
       "52"
      ]
     },
     "execution_count": 7,
     "metadata": {},
     "output_type": "execute_result"
    }
   ],
   "source": [
    "_resultadoBusca = 'div[class=\"s-card-container s-overflow-hidden aok-relative puis-expand-height puis-include-content-margin puis s-latency-cf-section s-card-border\"]'\n",
    "job_elems = soup.select(_resultadoBusca)\n",
    "len(job_elems)"
   ]
  },
  {
   "cell_type": "code",
   "execution_count": 78,
   "metadata": {},
   "outputs": [
    {
     "name": "stdout",
     "output_type": "stream",
     "text": [
      "Apple iPhone 11 (128 GB) Roxo  \n"
     ]
    }
   ],
   "source": [
    "_titulo = 'h2'\n",
    "x = job_elems[0]\n",
    "t = x.select(_titulo)[0]\n",
    "titulo = t.get_text()\n",
    "print(titulo)"
   ]
  },
  {
   "cell_type": "code",
   "execution_count": null,
   "metadata": {},
   "outputs": [],
   "source": [
    "for x in job_elems:\n",
    "    t = x.select(_titulo)[0]\n",
    "    titulo = t.get_text()\n",
    "\n",
    "    _preco = x.select('span[class=\"a-price-whole\"]')\n",
    "    valorPreco = None\n",
    "    for _preco in _preco"
   ]
  }
 ],
 "metadata": {
  "kernelspec": {
   "display_name": ".pyenv",
   "language": "python",
   "name": "python3"
  },
  "language_info": {
   "codemirror_mode": {
    "name": "ipython",
    "version": 3
   },
   "file_extension": ".py",
   "mimetype": "text/x-python",
   "name": "python",
   "nbconvert_exporter": "python",
   "pygments_lexer": "ipython3",
   "version": "3.10.6"
  },
  "orig_nbformat": 4,
  "vscode": {
   "interpreter": {
    "hash": "00dd308c1427ada417747386842df12fdeb41bc2d8ab872cdae332b5d7a78b89"
   }
  }
 },
 "nbformat": 4,
 "nbformat_minor": 2
}
