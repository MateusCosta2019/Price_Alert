{
 "cells": [
  {
   "cell_type": "code",
   "execution_count": 1,
   "metadata": {},
   "outputs": [],
   "source": [
    "from selenium import webdriver\n",
    "from selenium.webdriver.common.keys import Keys\n",
    "from selenium.webdriver.common.by import By\n",
    "import bs4\n",
    "from bs4 import BeautifulSoup\n",
    "from selenium.webdriver.support.ui import WebDriverWait\n",
    "import pandas as pd"
   ]
  },
  {
   "cell_type": "code",
   "execution_count": 85,
   "metadata": {},
   "outputs": [],
   "source": [
    "caminho = 'https://www.booking.com/searchresults.pt-br.html?ss=Guaruj%C3%A1&ssne=Guaruj%C3%A1&ssne_untouched=Guaruj%C3%A1&label=gen173nr-1BCAEoggI46AdIM1gEaCCIAQGYAS24ARfIAQzYAQHoAQGIAgGoAgO4AsK40J4GwAIB0gIkY2Y1YThhMzktNmYzMC00ODkwLTg3ZWQtZjg2ZGUyMTc5NjY32AIF4AIB&sid=48cff98bd5caee72275f11b12593e122&aid=304142&lang=pt-br&sb=1&src_elem=sb&src=index&dest_id=-645946&dest_type=city&checkin=2023-03-25&checkout=2023-03-26&group_adults=2&no_rooms=1&group_children=0&sb_travel_purpose=leisure'"
   ]
  },
  {
   "cell_type": "code",
   "execution_count": 86,
   "metadata": {},
   "outputs": [],
   "source": [
    "chrome_option = webdriver.ChromeOptions()\n",
    "chrome_option.add_argument('--headless')\n",
    "chrome_option.add_argument('--no-sandbox')\n",
    "chrome_option.add_argument('--disable-dev-shm-usage')"
   ]
  },
  {
   "cell_type": "code",
   "execution_count": 87,
   "metadata": {},
   "outputs": [],
   "source": [
    "driver = webdriver.Chrome('chromedriver', options=chrome_option)\n",
    "driver.get(caminho)"
   ]
  },
  {
   "cell_type": "code",
   "execution_count": 88,
   "metadata": {},
   "outputs": [],
   "source": [
    "soup = BeautifulSoup(driver.page_source, \"html.parser\")"
   ]
  },
  {
   "cell_type": "code",
   "execution_count": 17,
   "metadata": {},
   "outputs": [],
   "source": [
    "# Inicializa o dataframe\n",
    "columns = ['Nome', 'Preco', 'Avaliacao']\n",
    "df = pd.DataFrame(columns=columns)"
   ]
  },
  {
   "cell_type": "code",
   "execution_count": 64,
   "metadata": {},
   "outputs": [
    {
     "name": "stdout",
     "output_type": "stream",
     "text": [
      "[]\n"
     ]
    }
   ],
   "source": []
  },
  {
   "cell_type": "code",
   "execution_count": 109,
   "metadata": {},
   "outputs": [
    {
     "name": "stdout",
     "output_type": "stream",
     "text": [
      "0\n"
     ]
    }
   ],
   "source": [
    "property_cards = driver.find_elements(By.CSS_SELECTOR, 'div[data-testid=\"title\"]')\n",
    "print(len(property_cards))"
   ]
  },
  {
   "cell_type": "code",
   "execution_count": 116,
   "metadata": {},
   "outputs": [
    {
     "name": "stdout",
     "output_type": "stream",
     "text": [
      "Total pages: 12\n"
     ]
    },
    {
     "ename": "AttributeError",
     "evalue": "requests",
     "output_type": "error",
     "traceback": [
      "\u001b[1;31m---------------------------------------------------------------------------\u001b[0m",
      "\u001b[1;31mAttributeError\u001b[0m                            Traceback (most recent call last)",
      "Cell \u001b[1;32mIn[116], line 35\u001b[0m\n\u001b[0;32m     32\u001b[0m \u001b[39mprint\u001b[39m(\u001b[39mf\u001b[39m\u001b[39m\"\u001b[39m\u001b[39mTotal pages: \u001b[39m\u001b[39m{\u001b[39;00mtotal_pages\u001b[39m}\u001b[39;00m\u001b[39m\"\u001b[39m)\n\u001b[0;32m     34\u001b[0m \u001b[39mfor\u001b[39;00m current_page \u001b[39min\u001b[39;00m \u001b[39mrange\u001b[39m(total_pages):\n\u001b[1;32m---> 35\u001b[0m     \u001b[39mdel\u001b[39;00m driver\u001b[39m.\u001b[39mrequests\n\u001b[0;32m     36\u001b[0m     extract_properties()\n\u001b[0;32m     37\u001b[0m     next_page_btn \u001b[39m=\u001b[39m driver\u001b[39m.\u001b[39mfind_element(By\u001b[39m.\u001b[39mXPATH, \u001b[39m'\u001b[39m\u001b[39m//button[contains(@aria-label, \u001b[39m\u001b[39m\"\u001b[39m\u001b[39mNext page\u001b[39m\u001b[39m\"\u001b[39m\u001b[39m)]\u001b[39m\u001b[39m'\u001b[39m)\n",
      "\u001b[1;31mAttributeError\u001b[0m: requests"
     ]
    }
   ],
   "source": [
    "from selenium import webdriver\n",
    "from selenium.webdriver.chrome.service import Service\n",
    "from selenium.webdriver.common.by import By\n",
    "import requests\n",
    "\n",
    "driver = webdriver.Chrome()\n",
    "url = \"https://www.booking.com/searchresults.en-gb.html?dest_id=20015732&dest_type=city&group_adults=2\"\n",
    "driver.get(url)\n",
    "properties = []\n",
    "\n",
    "def extract_properties():\n",
    "    property_cards = driver.find_elements(By.CSS_SELECTOR, 'div[data-testid=\"property-card\"]')\n",
    "    new_property = {}\n",
    "    for property in property_cards:\n",
    "        name = property.find_element(By.CSS_SELECTOR,'div[data-testid=\"title\"]').text\n",
    "        link = property.find_element(By.CSS_SELECTOR,'a[data-testid=\"title-link\"]').get_attribute('href')\n",
    "        review_score, _, review_count = property.find_element(By.CSS_SELECTOR, '[data-testid=\"review-score\"]').text.split('\\n')\n",
    "        # price = property.find_element(By.CSS_SELECTOR, '[data-testid=\"price-and-discounted-price\"]').text\n",
    "        # address = property.find_element(By.CSS_SELECTOR, '[data-testid=\"address\"]').text\n",
    "        # image = property.find_element(By.CSS_SELECTOR, '[data-testid=\"image\"]').get_attribute('src')\n",
    "        \n",
    "        new_property['name'] = name\n",
    "        new_property['link'] = link\n",
    "        new_property['review_score'] = review_score\n",
    "        new_property['review_count'] = review_count\n",
    "        # new_property['price'] = price\n",
    "        # new_property['address'] = address\n",
    "        # new_property['image'] = image\n",
    "        properties.append(new_property)\n",
    "    return new_property\n",
    "\n",
    "total_pages = int(driver.find_element(By.CSS_SELECTOR, 'div[data-testid=\"pagination\"]  li:last-child').text)\n",
    "print(f\"Total pages: {total_pages}\")\n",
    "\n",
    "for current_page in range(total_pages):\n",
    "    del driver.requests\n",
    "    extract_properties()\n",
    "    next_page_btn = driver.find_element(By.XPATH, '//button[contains(@aria-label, \"Next page\")]')\n",
    "    next_page_btn.click()\n",
    "    driver.wait_for_request(\"/dml/graphql\", timeout=5)"
   ]
  }
 ],
 "metadata": {
  "kernelspec": {
   "display_name": ".pyenv",
   "language": "python",
   "name": "python3"
  },
  "language_info": {
   "codemirror_mode": {
    "name": "ipython",
    "version": 3
   },
   "file_extension": ".py",
   "mimetype": "text/x-python",
   "name": "python",
   "nbconvert_exporter": "python",
   "pygments_lexer": "ipython3",
   "version": "3.10.6"
  },
  "orig_nbformat": 4,
  "vscode": {
   "interpreter": {
    "hash": "7aa58d13888cf31c51a45594304109a5fb55361f417b69ec65b79b84a8f23ef3"
   }
  }
 },
 "nbformat": 4,
 "nbformat_minor": 2
}
